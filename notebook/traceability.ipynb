{
 "cells": [
  {
   "cell_type": "markdown",
   "id": "b6d89422",
   "metadata": {},
   "source": [
    "# Traceability Checker Notebook\n",
    "This notebook provides a basic traceability check for requirements, design elements, and test cases."
   ]
  },
  {
   "cell_type": "code",
   "execution_count": 1,
   "id": "9277a730",
   "metadata": {},
   "outputs": [],
   "source": [
    "# Import necessary libraries\n",
    "import pandas as pd"
   ]
  },
  {
   "cell_type": "markdown",
   "id": "9c162c5e",
   "metadata": {},
   "source": [
    "## Load Data\n",
    "Load your traceability data from a CSV file. Make sure 'traceability_data.csv' is in the same directory as your notebook, or provide the full path to the file."
   ]
  },
  {
   "cell_type": "code",
   "execution_count": 3,
   "id": "3b65032f",
   "metadata": {},
   "outputs": [
    {
     "name": "stdout",
     "output_type": "stream",
     "text": [
      "=== Full Traceability Table ===\n",
      "  Requirement_ID                      Requirement_Description Design_ID  \\\n",
      "0        REQ-001                System shall allow user login   DES-101   \n",
      "1        REQ-002    System shall show available parking spots   DES-102   \n",
      "2        REQ-003        System shall support cashless payment   DES-103   \n",
      "3        REQ-004  System shall notify admin when zone is full   DES-104   \n",
      "4        REQ-005    System shall allow reservation of parking   DES-105   \n",
      "5        REQ-006               System shall log user activity   DES-106   \n",
      "6        REQ-007     System shall provide analytics dashboard   DES-107   \n",
      "7        REQ-008    System shall allow multi-language support   DES-108   \n",
      "8        REQ-009   System shall generate daily parking report   DES-109   \n",
      "9        REQ-010                    System shall operate 24/7   DES-110   \n",
      "\n",
      "  Test_Case_ID  \n",
      "0       TC-001  \n",
      "1       TC-002  \n",
      "2       TC-003  \n",
      "3       TC-004  \n",
      "4       TC-005  \n",
      "5       TC-006  \n",
      "6       TC-007  \n",
      "7       TC-008  \n",
      "8          NaN  \n",
      "9       TC-010  \n"
     ]
    }
   ],
   "source": [
    "# Load the traceability data\n",
    "df = pd.read_csv('traceability_data.csv')\n",
    "\n",
    "print('=== Full Traceability Table ===')\n",
    "print(df)"
   ]
  },
  {
   "cell_type": "markdown",
   "id": "dbfccb86",
   "metadata": {},
   "source": [
    "## Check for Missing Links\n",
    "This section identifies any requirements that are not linked to a design element or a test case."
   ]
  },
  {
   "cell_type": "code",
   "execution_count": 4,
   "id": "549df695",
   "metadata": {},
   "outputs": [
    {
     "name": "stdout",
     "output_type": "stream",
     "text": [
      "✅ All requirements are linked to a design element.\n",
      "❌ Requirements with missing test case links:\n",
      "  Requirement_ID                     Requirement_Description\n",
      "8        REQ-009  System shall generate daily parking report\n"
     ]
    }
   ],
   "source": [
    "# Check for missing design and test case links\n",
    "missing_design = df[df['Design_ID'].isnull() | (df['Design_ID'] == '')]\n",
    "missing_test = df[df['Test_Case_ID'].isnull() | (df['Test_Case_ID'] == '')]\n",
    "\n",
    "if missing_design.empty:\n",
    "    print('✅ All requirements are linked to a design element.')\n",
    "else:\n",
    "    print('❌ Requirements with missing design links:')\n",
    "    print(missing_design[['Requirement_ID', 'Requirement_Description']])\n",
    "\n",
    "if missing_test.empty:\n",
    "    print('✅ All requirements are linked to a test case.')\n",
    "else:\n",
    "    print('❌ Requirements with missing test case links:')\n",
    "    print(missing_test[['Requirement_ID', 'Requirement_Description']])"
   ]
  },
  {
   "cell_type": "markdown",
   "id": "3f38ffe0",
   "metadata": {},
   "source": [
    "## Generate Simple Traceability Matrix\n",
    "This creates a simplified traceability matrix, showing the linkage between requirements, design IDs, and test case IDs."
   ]
  },
  {
   "cell_type": "code",
   "execution_count": 5,
   "id": "1bc4d0c9",
   "metadata": {},
   "outputs": [
    {
     "name": "stdout",
     "output_type": "stream",
     "text": [
      "\n",
      "=== Simple Traceability Matrix ===\n",
      "               Design_ID Test_Case_ID\n",
      "Requirement_ID                       \n",
      "REQ-001          DES-101       TC-001\n",
      "REQ-002          DES-102       TC-002\n",
      "REQ-003          DES-103       TC-003\n",
      "REQ-004          DES-104       TC-004\n",
      "REQ-005          DES-105       TC-005\n",
      "REQ-006          DES-106       TC-006\n",
      "REQ-007          DES-107       TC-007\n",
      "REQ-008          DES-108       TC-008\n",
      "REQ-009          DES-109         None\n",
      "REQ-010          DES-110       TC-010\n"
     ]
    }
   ],
   "source": [
    "# Create a simple traceability matrix\n",
    "trace_matrix = df.pivot_table(index='Requirement_ID',\n",
    "                              values=['Design_ID', 'Test_Case_ID'],\n",
    "                              aggfunc='first')\n",
    "print('\\n=== Simple Traceability Matrix ===')\n",
    "print(trace_matrix)"
   ]
  }
 ],
 "metadata": {
  "kernelspec": {
   "display_name": "trace-re",
   "language": "python",
   "name": "python3"
  },
  "language_info": {
   "codemirror_mode": {
    "name": "ipython",
    "version": 3
   },
   "file_extension": ".py",
   "mimetype": "text/x-python",
   "name": "python",
   "nbconvert_exporter": "python",
   "pygments_lexer": "ipython3",
   "version": "3.11.13"
  }
 },
 "nbformat": 4,
 "nbformat_minor": 5
}
